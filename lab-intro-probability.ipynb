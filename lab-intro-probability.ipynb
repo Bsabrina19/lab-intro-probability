{
 "cells": [
  {
   "cell_type": "markdown",
   "metadata": {},
   "source": [
    "# Lab | Intro to Probability"
   ]
  },
  {
   "cell_type": "markdown",
   "metadata": {},
   "source": [
    "**Objective**\n",
    "\n",
    "Welcome to this Intro to Probability lab, where we explore decision-making scenarios through the lens of probability and strategic analysis. In the business world, making informed decisions is crucial, especially when faced with uncertainties. This lab focuses on scenarios where probabilistic outcomes play a significant role in shaping strategies and outcomes. Students will engage in exercises that require assessing and choosing optimal paths based on data-driven insights. The goal is to enhance your skills by applying probability concepts to solve real-world problems."
   ]
  },
  {
   "cell_type": "markdown",
   "metadata": {},
   "source": [
    "**Challenge 1**"
   ]
  },
  {
   "cell_type": "markdown",
   "metadata": {},
   "source": [
    "#### Ironhack Airlines \n",
    "\n",
    "Often Airlines sell more tickets than they have seats available, this is called overbooking. Consider the following:\n",
    "- A plane has 450 seats. \n",
    "- Based on historical data we conclude that each individual passenger has a 3% chance of missing it's flight. \n",
    "\n",
    "If the Ironhack Airlines routinely sells 460 tickets, what is the chance that they have a seats for all passenger?"
   ]
  },
  {
   "cell_type": "code",
   "execution_count": 2,
   "metadata": {},
   "outputs": [
    {
     "name": "stdout",
     "output_type": "stream",
     "text": [
      "Exact probability that all passengers have seats: 0.8845\n"
     ]
    }
   ],
   "source": [
    "from scipy.stats import binom\n",
    "\n",
    "# Problem parameters\n",
    "n = 460             # Tickets sold\n",
    "p = 0.97            # Probability that a passenger shows up\n",
    "seats = 450         # Number of available seats\n",
    "\n",
    "# Compute the exact binomial probability: P(X ≤ 450)\n",
    "probability = binom.cdf(seats, n, p)\n",
    "\n",
    "# Display the result\n",
    "print(f\"Exact probability that all passengers have seats: {probability:.4f}\")"
   ]
  },
  {
   "cell_type": "markdown",
   "metadata": {},
   "source": [
    "**Challenge 2**"
   ]
  },
  {
   "cell_type": "markdown",
   "metadata": {},
   "source": [
    "#### Ironhack Call Center "
   ]
  },
  {
   "cell_type": "markdown",
   "metadata": {},
   "source": [
    "Suppose a customer service representative at a call center is handling customer complaints. Consider the following:\n",
    "- The probability of successfully resolving a customer complaint on the first attempt is 0.3. \n",
    "\n",
    "\n",
    "What is the probability that the representative needs to make at least three attempts before successfully resolving a customer complaint?"
   ]
  },
  {
   "cell_type": "code",
   "execution_count": 11,
   "metadata": {},
   "outputs": [
    {
     "name": "stdout",
     "output_type": "stream",
     "text": [
      "Using scipy.stats.geom: 0.4900\n"
     ]
    }
   ],
   "source": [
    "from scipy.stats import geom\n",
    "\n",
    "# Probability of success on each attempt\n",
    "p = 0.3\n",
    "\n",
    "# P(X ≥ 3) = 1 - P(X ≤ 2)\n",
    "prob_exact = 1 - geom.cdf(2, p)\n",
    "\n",
    "print(f\"Using scipy.stats.geom: {prob_exact:.4f}\")\n"
   ]
  },
  {
   "cell_type": "markdown",
   "metadata": {},
   "source": [
    "**Challenge 3**"
   ]
  },
  {
   "cell_type": "markdown",
   "metadata": {},
   "source": [
    "#### Ironhack Website"
   ]
  },
  {
   "cell_type": "markdown",
   "metadata": {},
   "source": [
    "Consider a scenario related to Ironhack website traffic. Where:\n",
    "- our website takes on average 500 visits per hour.\n",
    "- the website's server is designed to handle up to 550 vists per hour.\n",
    "\n",
    "\n",
    "What is the probability of the website server being overwhelmed?"
   ]
  },
  {
   "cell_type": "code",
   "execution_count": 12,
   "metadata": {},
   "outputs": [
    {
     "name": "stdout",
     "output_type": "stream",
     "text": [
      "Probability that the server is overwhelmed: 0.0129\n"
     ]
    }
   ],
   "source": [
    "from scipy.stats import poisson\n",
    "\n",
    "# Average number of visits per hour\n",
    "lambda_visits = 500\n",
    "\n",
    "# Server capacity\n",
    "threshold = 550\n",
    "\n",
    "# Probability that visits exceed server capacity\n",
    "prob_overwhelmed = 1 - poisson.cdf(threshold, lambda_visits)\n",
    "\n",
    "print(f\"Probability that the server is overwhelmed: {prob_overwhelmed:.4f}\")"
   ]
  },
  {
   "cell_type": "markdown",
   "metadata": {},
   "source": [
    "What is the probability of being overwhelmed at some point during a day? (consider 24hours)"
   ]
  },
  {
   "cell_type": "code",
   "execution_count": 13,
   "metadata": {},
   "outputs": [
    {
     "name": "stdout",
     "output_type": "stream",
     "text": [
      "Hourly overload probability: 0.012898\n",
      "Daily overload probability (at least once): 0.2677\n"
     ]
    }
   ],
   "source": [
    "# Parameters\n",
    "lambda_visits = 500\n",
    "threshold = 550\n",
    "hours_per_day = 24\n",
    "\n",
    "# Hourly risk\n",
    "p_hour = 1 - poisson.cdf(threshold, lambda_visits)\n",
    "\n",
    "# Daily risk: at least one hour exceeds threshold\n",
    "p_day = 1 - (1 - p_hour)**hours_per_day\n",
    "\n",
    "print(f\"Hourly overload probability: {p_hour:.6f}\")\n",
    "print(f\"Daily overload probability (at least once): {p_day:.4f}\")"
   ]
  },
  {
   "cell_type": "markdown",
   "metadata": {},
   "source": [
    "**Challenge 4**"
   ]
  },
  {
   "cell_type": "markdown",
   "metadata": {},
   "source": [
    "#### Ironhack Helpdesk"
   ]
  },
  {
   "cell_type": "markdown",
   "metadata": {},
   "source": [
    "Consider a scenario related to the time between arrivals of customers at a service desk.\n",
    "\n",
    "On average, a customers arrives every 10minutes.\n",
    "\n",
    "What is the probability that the next customer will arrive within the next 5 minutes?"
   ]
  },
  {
   "cell_type": "code",
   "execution_count": 14,
   "metadata": {},
   "outputs": [
    {
     "name": "stdout",
     "output_type": "stream",
     "text": [
      "Probability that the next customer arrives within 5 minutes: 0.3935\n"
     ]
    }
   ],
   "source": [
    "import math\n",
    "\n",
    "# Rate of arrival (customers per minute)\n",
    "lambda_rate = 1 / 10  # One customer every 10 minutes\n",
    "\n",
    "# Time window\n",
    "t = 5  # minutes\n",
    "\n",
    "# Exponential probability: P(T ≤ 5)\n",
    "probability = 1 - math.exp(-lambda_rate * t)\n",
    "\n",
    "print(f\"Probability that the next customer arrives within 5 minutes: {probability:.4f}\")\n"
   ]
  },
  {
   "cell_type": "markdown",
   "metadata": {},
   "source": [
    "If there is no customer for 15minutes, employees can that a 5minutes break.\n",
    "\n",
    "What is the probability an employee taking a break?"
   ]
  },
  {
   "cell_type": "code",
   "execution_count": 15,
   "metadata": {},
   "outputs": [
    {
     "name": "stdout",
     "output_type": "stream",
     "text": [
      "Probability that an employee can take a break: 0.2231\n"
     ]
    }
   ],
   "source": [
    "# Time threshold for break\n",
    "t = 15  # minutes\n",
    "\n",
    "# Probability that no customer arrives in 15 minutes\n",
    "prob_break = math.exp(-lambda_rate * t)\n",
    "\n",
    "print(f\"Probability that an employee can take a break: {prob_break:.4f}\")\n"
   ]
  },
  {
   "cell_type": "markdown",
   "metadata": {},
   "source": [
    "**Challenge 5**"
   ]
  },
  {
   "cell_type": "markdown",
   "metadata": {},
   "source": [
    "The weights of a certain species of birds follow a normal distribution with a mean weight of 150 grams and a standard deviation of 10 grams. \n",
    "\n",
    "- If we randomly select a bird, what is the probability that its weight is between 140 and 160 grams?"
   ]
  },
  {
   "cell_type": "code",
   "execution_count": 16,
   "metadata": {},
   "outputs": [
    {
     "name": "stdout",
     "output_type": "stream",
     "text": [
      "Probability that a bird weighs between 140g and 160g: 0.6827\n"
     ]
    }
   ],
   "source": [
    "from scipy.stats import norm\n",
    "\n",
    "# Parameters\n",
    "mu = 150\n",
    "sigma = 10\n",
    "\n",
    "# Compute probability between 140g and 160g\n",
    "probability = norm.cdf(160, mu, sigma) - norm.cdf(140, mu, sigma)\n",
    "\n",
    "print(f\"Probability that a bird weighs between 140g and 160g: {probability:.4f}\")\n"
   ]
  },
  {
   "cell_type": "markdown",
   "metadata": {},
   "source": [
    "**Challenge 6**"
   ]
  },
  {
   "cell_type": "markdown",
   "metadata": {},
   "source": [
    "If the lifetime (in hours) of a certain electronic component follows an exponential distribution with a mean lifetime of 50 hours, what is the probability that the component fails within the first 30 hours?"
   ]
  },
  {
   "cell_type": "code",
   "execution_count": 17,
   "metadata": {},
   "outputs": [
    {
     "name": "stdout",
     "output_type": "stream",
     "text": [
      "Probability of failure within 30 hours: 0.4512\n"
     ]
    }
   ],
   "source": [
    "# Parameters\n",
    "mean_lifetime = 50\n",
    "lambda_rate = 1 / mean_lifetime\n",
    "t = 30  # hours\n",
    "\n",
    "# Probability of failure within 30 hours\n",
    "prob_failure = 1 - math.exp(-lambda_rate * t)\n",
    "\n",
    "print(f\"Probability of failure within 30 hours: {prob_failure:.4f}\")"
   ]
  }
 ],
 "metadata": {
  "kernelspec": {
   "display_name": "Python 3",
   "language": "python",
   "name": "python3"
  },
  "language_info": {
   "codemirror_mode": {
    "name": "ipython",
    "version": 3
   },
   "file_extension": ".py",
   "mimetype": "text/x-python",
   "name": "python",
   "nbconvert_exporter": "python",
   "pygments_lexer": "ipython3",
   "version": "3.13.2"
  }
 },
 "nbformat": 4,
 "nbformat_minor": 2
}
